{
  "nbformat": 4,
  "nbformat_minor": 0,
  "metadata": {
    "colab": {
      "provenance": [],
      "authorship_tag": "ABX9TyOVm9Ti5Mi4x4hKBxK3h/Dd",
      "include_colab_link": true
    },
    "kernelspec": {
      "name": "python3",
      "display_name": "Python 3"
    },
    "language_info": {
      "name": "python"
    }
  },
  "cells": [
    {
      "cell_type": "markdown",
      "metadata": {
        "id": "view-in-github",
        "colab_type": "text"
      },
      "source": [
        "<a href=\"https://colab.research.google.com/github/akVarma-Ux/Machine-Learning-CA/blob/main/CA_Emsemble.ipynb\" target=\"_parent\"><img src=\"https://colab.research.google.com/assets/colab-badge.svg\" alt=\"Open In Colab\"/></a>"
      ]
    },
    {
      "cell_type": "code",
      "execution_count": null,
      "metadata": {
        "id": "eS1zThl-TPcd"
      },
      "outputs": [],
      "source": [
        "import pandas as pd\n",
        "import numpy as np\n",
        "import warnings"
      ]
    },
    {
      "cell_type": "code",
      "source": [
        "from sklearn.preprocessing import LabelEncoder, StandardScaler\n",
        "from sklearn.metrics import accuracy_score, f1_score, log_loss\n",
        "from sklearn.model_selection import train_test_split, KFold, cross_val_score"
      ],
      "metadata": {
        "id": "AKSwMJotTqm2"
      },
      "execution_count": null,
      "outputs": []
    },
    {
      "cell_type": "code",
      "source": [
        "from sklearn.svm import SVC\n",
        "from sklearn.linear_model import LogisticRegression\n",
        "from sklearn.tree import DecisionTreeClassifier\n",
        "from sklearn.ensemble import VotingClassifier\n",
        "from sklearn.ensemble import BaggingClassifier\n",
        "from sklearn.ensemble import AdaBoostClassifier, RandomForestClassifier, ExtraTreesClassifier"
      ],
      "metadata": {
        "id": "sExAssUnTzIz"
      },
      "execution_count": null,
      "outputs": []
    },
    {
      "cell_type": "code",
      "source": [
        "training_data = pd.read_csv(\"diabetes.csv\")\n",
        "testing_data = pd.read_csv(\"diabetes.csv\") "
      ],
      "metadata": {
        "id": "jOXL9EZLT6HF"
      },
      "execution_count": null,
      "outputs": []
    },
    {
      "cell_type": "code",
      "source": [
        "def get_nulls(training, testing):\n",
        "   print (\"Training Data\")\n",
        "   print (pd.isnull(training).sum())\n",
        "   print (\"Testing Data\")\n",
        "   print (pd.isnull(testing).sum()) "
      ],
      "metadata": {
        "id": "C_LsVryNT_Vi"
      },
      "execution_count": null,
      "outputs": []
    },
    {
      "cell_type": "code",
      "source": [
        "get_nulls(training_data, testing_data)"
      ],
      "metadata": {
        "colab": {
          "base_uri": "https://localhost:8080/"
        },
        "id": "cips8_VeUaUZ",
        "outputId": "055ed88c-8f5c-44a2-a0dc-8bbc9bdff463"
      },
      "execution_count": null,
      "outputs": [
        {
          "output_type": "stream",
          "name": "stdout",
          "text": [
            "Training Data\n",
            "Pregnancies      0\n",
            "Glucose          0\n",
            "BloodPressure    0\n",
            "SkinThickness    0\n",
            "Insulin          0\n",
            "BMI              0\n",
            "DPF              0\n",
            "Age              0\n",
            "Outcome          0\n",
            "dtype: int64\n",
            "Testing Data\n",
            "Pregnancies      0\n",
            "Glucose          0\n",
            "BloodPressure    0\n",
            "SkinThickness    0\n",
            "Insulin          0\n",
            "BMI              0\n",
            "DPF              0\n",
            "Age              0\n",
            "Outcome          0\n",
            "dtype: int64\n"
          ]
        }
      ]
    },
    {
      "cell_type": "code",
      "source": [
        "training_data.drop(labels=['Glucose', 'BloodPressure', 'Age'],axis=1, inplace=True)\n",
        "testing_data.drop(labels=['Glucose', 'BloodPressure', 'Age'],axis=1, inplace=True)"
      ],
      "metadata": {
        "id": "8J8aeS8wUtob"
      },
      "execution_count": null,
      "outputs": []
    },
    {
      "cell_type": "code",
      "source": [
        "training_data[\"Insulin\"].fillna(training_data[\"Insulin\"].median(), inplace=True)\n",
        "testing_data[\"Insulin\"].fillna(training_data[\"Insulin\"].median(), inplace=True)\n",
        "training_data[\"BMI\"].fillna(\"S\",inplace=True)\n",
        "testing_data[\"SkinThickness\"].fillna(training_data[\"SkinThickness\"].median(), inplace=True)"
      ],
      "metadata": {
        "id": "RCI_9e-3W4f6"
      },
      "execution_count": null,
      "outputs": []
    },
    {
      "cell_type": "code",
      "source": [
        "get_nulls(training_data,testing_data)"
      ],
      "metadata": {
        "colab": {
          "base_uri": "https://localhost:8080/"
        },
        "id": "mptsIPeMXQTs",
        "outputId": "004947a1-e397-48af-cbad-81812489511a"
      },
      "execution_count": null,
      "outputs": [
        {
          "output_type": "stream",
          "name": "stdout",
          "text": [
            "Training Data\n",
            "Pregnancies      0\n",
            "SkinThickness    0\n",
            "Insulin          0\n",
            "BMI              0\n",
            "DPF              0\n",
            "Outcome          0\n",
            "dtype: int64\n",
            "Testing Data\n",
            "Pregnancies      0\n",
            "SkinThickness    0\n",
            "Insulin          0\n",
            "BMI              0\n",
            "DPF              0\n",
            "Outcome          0\n",
            "dtype: int64\n"
          ]
        }
      ]
    },
    {
      "cell_type": "code",
      "source": [
        "encoder_1 = LabelEncoder()\n",
        "encoder_1.fit(training_data[\"Pregnancies\"])"
      ],
      "metadata": {
        "colab": {
          "base_uri": "https://localhost:8080/"
        },
        "id": "gMIME9IbXaGE",
        "outputId": "c197e4a3-46ef-4ffd-87af-b05b53e6bf0b"
      },
      "execution_count": null,
      "outputs": [
        {
          "output_type": "execute_result",
          "data": {
            "text/plain": [
              "LabelEncoder()"
            ]
          },
          "metadata": {},
          "execution_count": 40
        }
      ]
    },
    {
      "cell_type": "code",
      "source": [
        "training_sex_encoded = encoder_1.transform(training_data[\"Pregnancies\"])\n",
        "training_data[\"Pregnancies\"] = training_sex_encoded\n",
        "test_sex_encoded = encoder_1.transform(testing_data[\"Pregnancies\"])\n",
        "testing_data[\"Pregnancies\"] = test_sex_encoded"
      ],
      "metadata": {
        "id": "pQN30b5pXvjJ"
      },
      "execution_count": null,
      "outputs": []
    },
    {
      "cell_type": "code",
      "source": [
        "encoder_2 = LabelEncoder()\n",
        "encoder_2.fit(training_data[\"BMI\"])"
      ],
      "metadata": {
        "colab": {
          "base_uri": "https://localhost:8080/"
        },
        "id": "vY3VP2shX7FV",
        "outputId": "7d0b572f-b6b4-4a93-c735-84dee6d54186"
      },
      "execution_count": null,
      "outputs": [
        {
          "output_type": "execute_result",
          "data": {
            "text/plain": [
              "LabelEncoder()"
            ]
          },
          "metadata": {},
          "execution_count": 42
        }
      ]
    },
    {
      "cell_type": "code",
      "source": [
        "X_features= training_data.drop(labels=['DPF','Outcome'],axis=1)\n",
        "y_labels=training_data['Outcome']\n",
        "print(X_features.head(5))\n",
        "X_train, X_val, y_train,y_val = train_test_split(X_features, y_labels,test_size=0.1,random_state=27)"
      ],
      "metadata": {
        "colab": {
          "base_uri": "https://localhost:8080/"
        },
        "id": "pvHCeiU4YKVC",
        "outputId": "506d1883-1ac2-495c-c330-dbe6b055968a"
      },
      "execution_count": null,
      "outputs": [
        {
          "output_type": "stream",
          "name": "stdout",
          "text": [
            "   Pregnancies  SkinThickness  Insulin   BMI\n",
            "0            6             35        0  33.6\n",
            "1            1             29        0  26.6\n",
            "2            8              0        0  23.3\n",
            "3            1             23       94  28.1\n",
            "4            0             35      168  43.1\n"
          ]
        }
      ]
    },
    {
      "cell_type": "code",
      "source": [
        "LogReg_clf = LogisticRegression()\n",
        "DTree_clf = DecisionTreeClassifier()\n",
        "SVC_clf = SVC()"
      ],
      "metadata": {
        "id": "GhaKUg_ZaEcM"
      },
      "execution_count": null,
      "outputs": []
    },
    {
      "cell_type": "code",
      "source": [
        "LogReg_clf.fit(X_train, y_train)\n",
        "DTree_clf.fit(X_train, y_train)\n",
        "SVC_clf.fit(X_train, y_train)"
      ],
      "metadata": {
        "colab": {
          "base_uri": "https://localhost:8080/"
        },
        "id": "JVOiCNdsaOe7",
        "outputId": "1a319c04-42e7-4ea7-d14c-96d0a9ee339f"
      },
      "execution_count": null,
      "outputs": [
        {
          "output_type": "execute_result",
          "data": {
            "text/plain": [
              "SVC()"
            ]
          },
          "metadata": {},
          "execution_count": 45
        }
      ]
    },
    {
      "cell_type": "code",
      "source": [
        "LogReg_pred = LogReg_clf.predict(X_val)\n",
        "DTree_pred = DTree_clf.predict(X_val)\n",
        "SVC_pred = SVC_clf.predict(X_val)"
      ],
      "metadata": {
        "id": "4fldjP4TaSfu"
      },
      "execution_count": null,
      "outputs": []
    },
    {
      "cell_type": "code",
      "source": [
        "averaged_preds = (LogReg_pred + DTree_pred + SVC_pred)//3\n",
        "acc = accuracy_score(y_val, averaged_preds)\n",
        "print(acc)"
      ],
      "metadata": {
        "colab": {
          "base_uri": "https://localhost:8080/"
        },
        "id": "h4mOSeb6aZ2J",
        "outputId": "9c72d84d-f9cd-43bd-8f43-8be0018058f3"
      },
      "execution_count": null,
      "outputs": [
        {
          "output_type": "stream",
          "name": "stdout",
          "text": [
            "0.6493506493506493\n"
          ]
        }
      ]
    },
    {
      "cell_type": "code",
      "source": [],
      "metadata": {
        "id": "MSR-LB73diVC"
      },
      "execution_count": null,
      "outputs": []
    }
  ]
}